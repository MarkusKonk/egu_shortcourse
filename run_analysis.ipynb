{
 "cells": [
  {
   "cell_type": "code",
   "execution_count": null,
   "metadata": {},
   "outputs": [],
   "source": [
    "import numpy as np\n",
    "import matplotlib.pyplot as plt\n",
    "\n",
    "plt.ion()"
   ]
  },
  {
   "cell_type": "code",
   "execution_count": null,
   "metadata": {},
   "outputs": [],
   "source": [
    "# Make a plot\n",
    "fig = plt.figure(figsize=(6, 5))\n",
    "ax = fig.add_subplot(111)\n",
    "\n",
    "N = M = 200\n",
    "X, Y = np.ogrid[0:20:N*1j, 0:20:M*1j]\n",
    "data = np.sin(np.pi * X*2 / 20) * np.cos(np.pi * Y*2 / 20)\n",
    "\n",
    "im = ax.imshow(data, extent=[0, 200, 0, 200])\n",
    "fig.colorbar(im, ax=ax, shrink=0.8)\n",
    "\n",
    "ax.set_xlabel(\"X\", fontsize=18)\n",
    "ax.set_ylabel(\"Y\", fontsize=18)"
   ]
  }
 ],
 "metadata": {
  "kernelspec": {
   "display_name": "Python 2",
   "language": "python",
   "name": "python2"
  },
  "language_info": {
   "codemirror_mode": {
    "name": "ipython",
    "version": 2
   },
   "file_extension": ".py",
   "mimetype": "text/x-python",
   "name": "python",
   "nbconvert_exporter": "python",
   "pygments_lexer": "ipython2",
   "version": "2.7.13"
  }
 },
 "nbformat": 4,
 "nbformat_minor": 2
}
